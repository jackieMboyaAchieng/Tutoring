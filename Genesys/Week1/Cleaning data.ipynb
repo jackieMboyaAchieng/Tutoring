{
 "cells": [
  {
   "cell_type": "markdown",
   "id": "3192114a-59ba-45e1-a4c1-a0e84e15b346",
   "metadata": {},
   "source": [
    "# Import Necessary Libraries"
   ]
  },
  {
   "cell_type": "code",
   "execution_count": 19,
   "id": "6aec39b2-5f1e-4244-be1a-ad950f33e1c1",
   "metadata": {},
   "outputs": [],
   "source": [
    "# import pandas\n",
    "import pandas as pd\n",
    "\n",
    "#load the .csv file\n",
    "data = pd.read_csv('data.csv')"
   ]
  },
  {
   "cell_type": "code",
   "execution_count": 2,
   "id": "cd1c0dd6-53c8-4863-830e-4d1ca4bde9fe",
   "metadata": {},
   "outputs": [
    {
     "name": "stdout",
     "output_type": "stream",
     "text": [
      "     Duration  Pulse  Maxpulse  Calories\n",
      "0          60    110       130     409.1\n",
      "1          60    117       145     479.0\n",
      "2          60    103       135     340.0\n",
      "3          45    109       175     282.4\n",
      "4          45    117       148     406.0\n",
      "..        ...    ...       ...       ...\n",
      "164        60    105       140     290.8\n",
      "165        60    110       145     300.0\n",
      "166        60    115       145     310.2\n",
      "167        75    120       150     320.4\n",
      "168        75    125       150     330.4\n",
      "\n",
      "[169 rows x 4 columns]\n"
     ]
    }
   ],
   "source": [
    "print(data)"
   ]
  },
  {
   "cell_type": "code",
   "execution_count": 3,
   "id": "f15c318a-809b-442e-8e91-cad2462de88f",
   "metadata": {},
   "outputs": [
    {
     "name": "stdout",
     "output_type": "stream",
     "text": [
      "     Duration  Pulse  Maxpulse  Calories\n",
      "0          60    110       130     409.1\n",
      "1          60    117       145     479.0\n",
      "2          60    103       135     340.0\n",
      "3          45    109       175     282.4\n",
      "4          45    117       148     406.0\n",
      "5          60    102       127     300.0\n",
      "6          60    110       136     374.0\n",
      "7          45    104       134     253.3\n",
      "8          30    109       133     195.1\n",
      "9          60     98       124     269.0\n",
      "10         60    103       147     329.3\n",
      "11         60    100       120     250.7\n",
      "12         60    106       128     345.3\n",
      "13         60    104       132     379.3\n",
      "14         60     98       123     275.0\n",
      "15         60     98       120     215.2\n",
      "16         60    100       120     300.0\n",
      "17         45     90       112       NaN\n",
      "18         60    103       123     323.0\n",
      "19         45     97       125     243.0\n",
      "20         60    108       131     364.2\n",
      "21         45    100       119     282.0\n",
      "22         60    130       101     300.0\n",
      "23         45    105       132     246.0\n",
      "24         60    102       126     334.5\n",
      "25         60    100       120     250.0\n",
      "26         60     92       118     241.0\n",
      "27         60    103       132       NaN\n",
      "28         60    100       132     280.0\n",
      "29         60    102       129     380.3\n",
      "30         60     92       115     243.0\n",
      "31         45     90       112     180.1\n",
      "32         60    101       124     299.0\n",
      "33         60     93       113     223.0\n",
      "34         60    107       136     361.0\n",
      "35         60    114       140     415.0\n",
      "36         60    102       127     300.0\n",
      "37         60    100       120     300.0\n",
      "38         60    100       120     300.0\n",
      "39         45    104       129     266.0\n",
      "40         45     90       112     180.1\n",
      "41         60     98       126     286.0\n",
      "42         60    100       122     329.4\n",
      "43         60    111       138     400.0\n",
      "44         60    111       131     397.0\n",
      "45         60     99       119     273.0\n",
      "46         60    109       153     387.6\n",
      "47         45    111       136     300.0\n",
      "48         45    108       129     298.0\n",
      "49         60    111       139     397.6\n",
      "50         60    107       136     380.2\n",
      "51         80    123       146     643.1\n",
      "52         60    106       130     263.0\n",
      "53         60    118       151     486.0\n",
      "54         30    136       175     238.0\n",
      "55         60    121       146     450.7\n",
      "56         60    118       121     413.0\n",
      "57         45    115       144     305.0\n",
      "58         20    153       172     226.4\n",
      "59         45    123       152     321.0\n",
      "60        210    108       160    1376.0\n",
      "61        160    110       137    1034.4\n",
      "62        160    109       135     853.0\n",
      "63         45    118       141     341.0\n",
      "64         20    110       130     131.4\n",
      "65        180     90       130     800.4\n",
      "66        150    105       135     873.4\n",
      "67        150    107       130     816.0\n",
      "68         20    106       136     110.4\n",
      "69        300    108       143    1500.2\n",
      "70        150     97       129    1115.0\n",
      "71         60    109       153     387.6\n",
      "72         90    100       127     700.0\n",
      "73        150     97       127     953.2\n",
      "74         45    114       146     304.0\n",
      "75         90     98       125     563.2\n",
      "76         45    105       134     251.0\n",
      "77         45    110       141     300.0\n",
      "78        120    100       130     500.4\n",
      "79        270    100       131    1729.0\n",
      "80         30    159       182     319.2\n",
      "81         45    149       169     344.0\n",
      "82         30    103       139     151.1\n",
      "83        120    100       130     500.0\n",
      "84         45    100       120     225.3\n",
      "85         30    151       170     300.0\n",
      "86         45    102       136     234.0\n",
      "87        120    100       157    1000.1\n",
      "88         45    129       103     242.0\n",
      "89         20     83       107      50.3\n",
      "90        180    101       127     600.1\n",
      "91         45    107       137       NaN\n",
      "92         30     90       107     105.3\n",
      "93         15     80       100      50.5\n",
      "94         20    150       171     127.4\n",
      "95         20    151       168     229.4\n",
      "96         30     95       128     128.2\n",
      "97         25    152       168     244.2\n",
      "98         30    109       131     188.2\n",
      "99         90     93       124     604.1\n",
      "100        20     95       112      77.7\n",
      "101        90     90       110     500.0\n",
      "102        90     90       100     500.0\n",
      "103        90     90       100     500.4\n",
      "104        30     92       108      92.7\n",
      "105        30     93       128     124.0\n",
      "106       180     90       120     800.3\n",
      "107        30     90       120      86.2\n",
      "108        90     90       120     500.3\n",
      "109       210    137       184    1860.4\n",
      "110        60    102       124     325.2\n",
      "111        45    107       124     275.0\n",
      "112        15    124       139     124.2\n",
      "113        45    100       120     225.3\n",
      "114        60    108       131     367.6\n",
      "115        60    108       151     351.7\n",
      "116        60    116       141     443.0\n",
      "117        60     97       122     277.4\n",
      "118        60    105       125       NaN\n",
      "119        60    103       124     332.7\n",
      "120        30    112       137     193.9\n",
      "121        45    100       120     100.7\n",
      "122        60    119       169     336.7\n",
      "123        60    107       127     344.9\n",
      "124        60    111       151     368.5\n",
      "125        60     98       122     271.0\n",
      "126        60     97       124     275.3\n",
      "127        60    109       127     382.0\n",
      "128        90     99       125     466.4\n",
      "129        60    114       151     384.0\n",
      "130        60    104       134     342.5\n",
      "131        60    107       138     357.5\n",
      "132        60    103       133     335.0\n",
      "133        60    106       132     327.5\n",
      "134        60    103       136     339.0\n",
      "135        20    136       156     189.0\n",
      "136        45    117       143     317.7\n",
      "137        45    115       137     318.0\n",
      "138        45    113       138     308.0\n",
      "139        20    141       162     222.4\n",
      "140        60    108       135     390.0\n",
      "141        60     97       127       NaN\n",
      "142        45    100       120     250.4\n",
      "143        45    122       149     335.4\n",
      "144        60    136       170     470.2\n",
      "145        45    106       126     270.8\n",
      "146        60    107       136     400.0\n",
      "147        60    112       146     361.9\n",
      "148        30    103       127     185.0\n",
      "149        60    110       150     409.4\n",
      "150        60    106       134     343.0\n",
      "151        60    109       129     353.2\n",
      "152        60    109       138     374.0\n",
      "153        30    150       167     275.8\n",
      "154        60    105       128     328.0\n",
      "155        60    111       151     368.5\n",
      "156        60     97       131     270.4\n",
      "157        60    100       120     270.4\n",
      "158        60    114       150     382.8\n",
      "159        30     80       120     240.9\n",
      "160        30     85       120     250.4\n",
      "161        45     90       130     260.4\n",
      "162        45     95       130     270.0\n",
      "163        45    100       140     280.9\n",
      "164        60    105       140     290.8\n",
      "165        60    110       145     300.0\n",
      "166        60    115       145     310.2\n",
      "167        75    120       150     320.4\n",
      "168        75    125       150     330.4\n"
     ]
    }
   ],
   "source": [
    "print(data.to_string())"
   ]
  },
  {
   "cell_type": "markdown",
   "id": "2f50a5ca-5171-4a5b-99e8-58f98be0505c",
   "metadata": {},
   "source": [
    "# Understanding the Data"
   ]
  },
  {
   "cell_type": "code",
   "execution_count": 4,
   "id": "34fd8473-d2cc-4800-a4d4-0a8dc2c155da",
   "metadata": {},
   "outputs": [
    {
     "name": "stdout",
     "output_type": "stream",
     "text": [
      "<class 'pandas.core.frame.DataFrame'>\n",
      "RangeIndex: 169 entries, 0 to 168\n",
      "Data columns (total 4 columns):\n",
      " #   Column    Non-Null Count  Dtype  \n",
      "---  ------    --------------  -----  \n",
      " 0   Duration  169 non-null    int64  \n",
      " 1   Pulse     169 non-null    int64  \n",
      " 2   Maxpulse  169 non-null    int64  \n",
      " 3   Calories  164 non-null    float64\n",
      "dtypes: float64(1), int64(3)\n",
      "memory usage: 5.4 KB\n"
     ]
    }
   ],
   "source": [
    "data.info()"
   ]
  },
  {
   "cell_type": "code",
   "execution_count": 10,
   "id": "26705bb1-a7b0-4458-afdc-04049f51624d",
   "metadata": {},
   "outputs": [
    {
     "data": {
      "text/plain": [
       "Index(['Duration', 'Pulse', 'Maxpulse', 'Calories'], dtype='object')"
      ]
     },
     "execution_count": 10,
     "metadata": {},
     "output_type": "execute_result"
    }
   ],
   "source": [
    "data.columns"
   ]
  },
  {
   "cell_type": "code",
   "execution_count": 14,
   "id": "70e17786-ac59-43c6-883a-fee46d8b6c2d",
   "metadata": {},
   "outputs": [
    {
     "data": {
      "text/plain": [
       "dtype('int64')"
      ]
     },
     "execution_count": 14,
     "metadata": {},
     "output_type": "execute_result"
    }
   ],
   "source": [
    "# Check datatype\n",
    "data['Duration'].dtype"
   ]
  },
  {
   "cell_type": "code",
   "execution_count": 15,
   "id": "0a91a59d-9988-47e0-98f8-71cb93c77061",
   "metadata": {},
   "outputs": [
    {
     "data": {
      "text/plain": [
       "dtype('float64')"
      ]
     },
     "execution_count": 15,
     "metadata": {},
     "output_type": "execute_result"
    }
   ],
   "source": [
    "data['Calories'].dtype"
   ]
  },
  {
   "cell_type": "code",
   "execution_count": 16,
   "id": "3a82787c-4497-4895-9b20-ad8e1d3dc83e",
   "metadata": {},
   "outputs": [],
   "source": [
    "data1 = data.copy()"
   ]
  },
  {
   "cell_type": "code",
   "execution_count": 17,
   "id": "9b116da6-d661-45e6-8844-b9f551af90f0",
   "metadata": {},
   "outputs": [
    {
     "name": "stdout",
     "output_type": "stream",
     "text": [
      "    Duration  Pulse  Maxpulse  Calories\n",
      "0         60    110       130     409.1\n",
      "1         60    117       145     479.0\n",
      "2         60    103       135     340.0\n",
      "3         45    109       175     282.4\n",
      "4         45    117       148     406.0\n",
      "5         60    102       127     300.0\n",
      "6         60    110       136     374.0\n",
      "7         45    104       134     253.3\n",
      "8         30    109       133     195.1\n",
      "9         60     98       124     269.0\n",
      "10        60    103       147     329.3\n",
      "11        60    100       120     250.7\n",
      "12        60    106       128     345.3\n",
      "13        60    104       132     379.3\n",
      "14        60     98       123     275.0\n",
      "15        60     98       120     215.2\n",
      "16        60    100       120     300.0\n",
      "17        45     90       112       NaN\n",
      "18        60    103       123     323.0\n",
      "19        45     97       125     243.0\n",
      "20        60    108       131     364.2\n",
      "21        45    100       119     282.0\n",
      "22        60    130       101     300.0\n",
      "23        45    105       132     246.0\n",
      "24        60    102       126     334.5\n",
      "25        60    100       120     250.0\n",
      "26        60     92       118     241.0\n",
      "27        60    103       132       NaN\n",
      "28        60    100       132     280.0\n",
      "29        60    102       129     380.3\n",
      "30        60     92       115     243.0\n",
      "31        45     90       112     180.1\n",
      "32        60    101       124     299.0\n",
      "33        60     93       113     223.0\n",
      "34        60    107       136     361.0\n",
      "35        60    114       140     415.0\n",
      "36        60    102       127     300.0\n",
      "37        60    100       120     300.0\n",
      "38        60    100       120     300.0\n",
      "39        45    104       129     266.0\n",
      "40        45     90       112     180.1\n",
      "41        60     98       126     286.0\n",
      "42        60    100       122     329.4\n",
      "43        60    111       138     400.0\n",
      "44        60    111       131     397.0\n",
      "45        60     99       119     273.0\n",
      "46        60    109       153     387.6\n",
      "47        45    111       136     300.0\n",
      "48        45    108       129     298.0\n",
      "49        60    111       139     397.6\n"
     ]
    }
   ],
   "source": [
    "print(data1.head(50))"
   ]
  },
  {
   "cell_type": "markdown",
   "id": "131109ab-fc1d-4ce0-9e25-316ea11ac8c4",
   "metadata": {},
   "source": [
    "### Dealing with Null Values"
   ]
  },
  {
   "cell_type": "code",
   "execution_count": 7,
   "id": "509490c4-82fa-40fe-b9c2-1af5d0c6cbee",
   "metadata": {},
   "outputs": [
    {
     "data": {
      "text/plain": [
       "Duration    0\n",
       "Pulse       0\n",
       "Maxpulse    0\n",
       "Calories    5\n",
       "dtype: int64"
      ]
     },
     "execution_count": 7,
     "metadata": {},
     "output_type": "execute_result"
    }
   ],
   "source": [
    "# check the null values\n",
    "data.isna().sum()"
   ]
  },
  {
   "cell_type": "code",
   "execution_count": 8,
   "id": "55d83099-16f4-4e8d-9bec-4fb15c01ca81",
   "metadata": {},
   "outputs": [
    {
     "data": {
      "text/plain": [
       "Duration    0\n",
       "Pulse       0\n",
       "Maxpulse    0\n",
       "Calories    5\n",
       "dtype: int64"
      ]
     },
     "execution_count": 8,
     "metadata": {},
     "output_type": "execute_result"
    }
   ],
   "source": [
    "data.isnull().sum()"
   ]
  },
  {
   "cell_type": "markdown",
   "id": "b0019dc9-33b0-43a9-84c5-7961082f9c02",
   "metadata": {},
   "source": [
    "1. **Remove the null values.**"
   ]
  },
  {
   "cell_type": "code",
   "execution_count": 21,
   "id": "de3d4f7b-86fb-42ab-aef2-bbbd7dcea73e",
   "metadata": {},
   "outputs": [
    {
     "name": "stdout",
     "output_type": "stream",
     "text": [
      "    Duration  Pulse  Maxpulse  Calories\n",
      "0         60    110       130     409.1\n",
      "1         60    117       145     479.0\n",
      "2         60    103       135     340.0\n",
      "3         45    109       175     282.4\n",
      "4         45    117       148     406.0\n",
      "5         60    102       127     300.0\n",
      "6         60    110       136     374.0\n",
      "7         45    104       134     253.3\n",
      "8         30    109       133     195.1\n",
      "9         60     98       124     269.0\n",
      "10        60    103       147     329.3\n",
      "11        60    100       120     250.7\n",
      "12        60    106       128     345.3\n",
      "13        60    104       132     379.3\n",
      "14        60     98       123     275.0\n",
      "15        60     98       120     215.2\n",
      "16        60    100       120     300.0\n",
      "17        45     90       112       NaN\n",
      "18        60    103       123     323.0\n",
      "19        45     97       125     243.0\n",
      "20        60    108       131     364.2\n",
      "21        45    100       119     282.0\n",
      "22        60    130       101     300.0\n",
      "23        45    105       132     246.0\n",
      "24        60    102       126     334.5\n",
      "25        60    100       120     250.0\n",
      "26        60     92       118     241.0\n",
      "27        60    103       132       NaN\n",
      "28        60    100       132     280.0\n",
      "29        60    102       129     380.3\n"
     ]
    }
   ],
   "source": [
    "# removing null values\n",
    "\n",
    "df = pd.read_csv('data.csv')\n",
    "print(df.head(30))"
   ]
  },
  {
   "cell_type": "code",
   "execution_count": 22,
   "id": "5a8e8fe7-ff56-4ad9-8994-33d1d25bced7",
   "metadata": {},
   "outputs": [
    {
     "name": "stdout",
     "output_type": "stream",
     "text": [
      "    Duration  Pulse  Maxpulse  Calories\n",
      "0         60    110       130     409.1\n",
      "1         60    117       145     479.0\n",
      "2         60    103       135     340.0\n",
      "3         45    109       175     282.4\n",
      "4         45    117       148     406.0\n",
      "5         60    102       127     300.0\n",
      "6         60    110       136     374.0\n",
      "7         45    104       134     253.3\n",
      "8         30    109       133     195.1\n",
      "9         60     98       124     269.0\n",
      "10        60    103       147     329.3\n",
      "11        60    100       120     250.7\n",
      "12        60    106       128     345.3\n",
      "13        60    104       132     379.3\n",
      "14        60     98       123     275.0\n",
      "15        60     98       120     215.2\n",
      "16        60    100       120     300.0\n",
      "18        60    103       123     323.0\n",
      "19        45     97       125     243.0\n",
      "20        60    108       131     364.2\n",
      "21        45    100       119     282.0\n",
      "22        60    130       101     300.0\n",
      "23        45    105       132     246.0\n",
      "24        60    102       126     334.5\n",
      "25        60    100       120     250.0\n",
      "26        60     92       118     241.0\n",
      "28        60    100       132     280.0\n",
      "29        60    102       129     380.3\n",
      "30        60     92       115     243.0\n",
      "31        45     90       112     180.1\n"
     ]
    }
   ],
   "source": [
    "new_df = df.dropna()\n",
    "print(new_df.head(30))\n",
    "#print(new_df.to_string())"
   ]
  },
  {
   "cell_type": "code",
   "execution_count": 24,
   "id": "e87eab9e-e798-4eec-abd2-e605ca3fb947",
   "metadata": {},
   "outputs": [
    {
     "name": "stdout",
     "output_type": "stream",
     "text": [
      "    Duration  Pulse  Maxpulse  Calories\n",
      "0         60    110       130     409.1\n",
      "1         60    117       145     479.0\n",
      "2         60    103       135     340.0\n",
      "3         45    109       175     282.4\n",
      "4         45    117       148     406.0\n",
      "5         60    102       127     300.0\n",
      "6         60    110       136     374.0\n",
      "7         45    104       134     253.3\n",
      "8         30    109       133     195.1\n",
      "9         60     98       124     269.0\n",
      "10        60    103       147     329.3\n",
      "11        60    100       120     250.7\n",
      "12        60    106       128     345.3\n",
      "13        60    104       132     379.3\n",
      "14        60     98       123     275.0\n",
      "15        60     98       120     215.2\n",
      "16        60    100       120     300.0\n",
      "18        60    103       123     323.0\n",
      "19        45     97       125     243.0\n",
      "20        60    108       131     364.2\n",
      "21        45    100       119     282.0\n",
      "22        60    130       101     300.0\n",
      "23        45    105       132     246.0\n",
      "24        60    102       126     334.5\n",
      "25        60    100       120     250.0\n",
      "26        60     92       118     241.0\n",
      "28        60    100       132     280.0\n",
      "29        60    102       129     380.3\n",
      "30        60     92       115     243.0\n",
      "31        45     90       112     180.1\n"
     ]
    }
   ],
   "source": [
    "df = pd.read_csv('data.csv')\n",
    "\n",
    "# using inplace\n",
    "df.dropna(inplace = True)\n",
    "print(df.head(30))\n",
    "#print(df.to_string())"
   ]
  },
  {
   "cell_type": "markdown",
   "id": "31d1d7a1-c728-4209-b50b-49aa51826013",
   "metadata": {},
   "source": [
    " 2.a **Fill the null values.**"
   ]
  },
  {
   "cell_type": "code",
   "execution_count": 30,
   "id": "322ec9e7-195b-4e5b-89d1-9199ccb4baac",
   "metadata": {},
   "outputs": [
    {
     "name": "stdout",
     "output_type": "stream",
     "text": [
      "    Duration  Pulse  Maxpulse  Calories\n",
      "0         60    110       130     409.1\n",
      "1         60    117       145     479.0\n",
      "2         60    103       135     340.0\n",
      "3         45    109       175     282.4\n",
      "4         45    117       148     406.0\n",
      "5         60    102       127     300.0\n",
      "6         60    110       136     374.0\n",
      "7         45    104       134     253.3\n",
      "8         30    109       133     195.1\n",
      "9         60     98       124     269.0\n",
      "10        60    103       147     329.3\n",
      "11        60    100       120     250.7\n",
      "12        60    106       128     345.3\n",
      "13        60    104       132     379.3\n",
      "14        60     98       123     275.0\n",
      "15        60     98       120     215.2\n",
      "16        60    100       120     300.0\n",
      "17        45     90       112     130.0\n",
      "18        60    103       123     323.0\n",
      "19        45     97       125     243.0\n",
      "20        60    108       131     364.2\n",
      "21        45    100       119     282.0\n",
      "22        60    130       101     300.0\n",
      "23        45    105       132     246.0\n",
      "24        60    102       126     334.5\n",
      "25        60    100       120     250.0\n",
      "26        60     92       118     241.0\n",
      "27        60    103       132     130.0\n",
      "28        60    100       132     280.0\n",
      "29        60    102       129     380.3\n"
     ]
    }
   ],
   "source": [
    "df = pd.read_csv('data.csv')\n",
    "\n",
    "#choose a random value\n",
    "df.fillna(130, inplace = True)\n",
    "print(df.head(30))\n"
   ]
  },
  {
   "cell_type": "markdown",
   "id": "5a0ac0cb-19ab-4ec0-91d7-e37369c9bf29",
   "metadata": {},
   "source": [
    "2.b **Fill for specific column.**"
   ]
  },
  {
   "cell_type": "code",
   "execution_count": 31,
   "id": "2e06e595-913d-4e84-a96f-f05d1d229946",
   "metadata": {},
   "outputs": [
    {
     "name": "stdout",
     "output_type": "stream",
     "text": [
      "    Duration  Pulse  Maxpulse  Calories\n",
      "0         60    110       130     409.1\n",
      "1         60    117       145     479.0\n",
      "2         60    103       135     340.0\n",
      "3         45    109       175     282.4\n",
      "4         45    117       148     406.0\n",
      "5         60    102       127     300.0\n",
      "6         60    110       136     374.0\n",
      "7         45    104       134     253.3\n",
      "8         30    109       133     195.1\n",
      "9         60     98       124     269.0\n",
      "10        60    103       147     329.3\n",
      "11        60    100       120     250.7\n",
      "12        60    106       128     345.3\n",
      "13        60    104       132     379.3\n",
      "14        60     98       123     275.0\n",
      "15        60     98       120     215.2\n",
      "16        60    100       120     300.0\n",
      "17        45     90       112     140.0\n",
      "18        60    103       123     323.0\n",
      "19        45     97       125     243.0\n",
      "20        60    108       131     364.2\n",
      "21        45    100       119     282.0\n",
      "22        60    130       101     300.0\n",
      "23        45    105       132     246.0\n",
      "24        60    102       126     334.5\n",
      "25        60    100       120     250.0\n",
      "26        60     92       118     241.0\n",
      "27        60    103       132     140.0\n",
      "28        60    100       132     280.0\n",
      "29        60    102       129     380.3\n"
     ]
    }
   ],
   "source": [
    "df = pd.read_csv('data.csv')\n",
    "\n",
    "df[\"Calories\"].fillna(140, inplace = True)\n",
    "print(df.head(30))"
   ]
  },
  {
   "cell_type": "markdown",
   "id": "1394e43c-9c6d-4379-bd5c-c87f0e169a69",
   "metadata": {},
   "source": [
    "2.c **Fill null values with measure of location (central tendecies)**"
   ]
  },
  {
   "cell_type": "markdown",
   "id": "4514c656-19a6-412f-b175-6619c7e57d4c",
   "metadata": {},
   "source": [
    "**Mean**"
   ]
  },
  {
   "cell_type": "code",
   "execution_count": 52,
   "id": "7e4606be-1c3a-4007-b4cf-d347b5203b0c",
   "metadata": {},
   "outputs": [
    {
     "name": "stdout",
     "output_type": "stream",
     "text": [
      "375.79\n"
     ]
    }
   ],
   "source": [
    "df = pd.read_csv('data.csv')\n",
    "\n",
    "#calculate the mean\n",
    "df1 = df['Calories'].mean().round(2)\n",
    "print(df1)\n",
    "#df1.round(2)\n",
    "#Fill with mean (df1)\n",
    "#df[\"Calories\"].fillna(df1, inplace = True)\n",
    "\n",
    "#print(df.head(30))"
   ]
  },
  {
   "cell_type": "markdown",
   "id": "bed1da87-c704-4958-bf98-f4d1f48e6eea",
   "metadata": {},
   "source": [
    "**Median**"
   ]
  },
  {
   "cell_type": "code",
   "execution_count": 39,
   "id": "1390f4cd-d800-4865-8f02-ede104fc7d79",
   "metadata": {},
   "outputs": [
    {
     "name": "stdout",
     "output_type": "stream",
     "text": [
      "    Duration  Pulse  Maxpulse  Calories\n",
      "0         60    110       130     409.1\n",
      "1         60    117       145     479.0\n",
      "2         60    103       135     340.0\n",
      "3         45    109       175     282.4\n",
      "4         45    117       148     406.0\n",
      "5         60    102       127     300.0\n",
      "6         60    110       136     374.0\n",
      "7         45    104       134     253.3\n",
      "8         30    109       133     195.1\n",
      "9         60     98       124     269.0\n",
      "10        60    103       147     329.3\n",
      "11        60    100       120     250.7\n",
      "12        60    106       128     345.3\n",
      "13        60    104       132     379.3\n",
      "14        60     98       123     275.0\n",
      "15        60     98       120     215.2\n",
      "16        60    100       120     300.0\n",
      "17        45     90       112     318.6\n",
      "18        60    103       123     323.0\n",
      "19        45     97       125     243.0\n",
      "20        60    108       131     364.2\n",
      "21        45    100       119     282.0\n",
      "22        60    130       101     300.0\n",
      "23        45    105       132     246.0\n",
      "24        60    102       126     334.5\n",
      "25        60    100       120     250.0\n",
      "26        60     92       118     241.0\n",
      "27        60    103       132     318.6\n",
      "28        60    100       132     280.0\n",
      "29        60    102       129     380.3\n"
     ]
    }
   ],
   "source": [
    "df = pd.read_csv('data.csv')\n",
    "\n",
    "#calculate the mean\n",
    "df2 = df['Calories'].median()\n",
    "#Fill with mean (df1)\n",
    "df[\"Calories\"].fillna(df2, inplace = True)\n",
    "\n",
    "print(df.head(30))"
   ]
  },
  {
   "cell_type": "markdown",
   "id": "711e76eb-20c3-4324-8f0b-9deb95611994",
   "metadata": {},
   "source": [
    "**Mode**"
   ]
  },
  {
   "cell_type": "code",
   "execution_count": 40,
   "id": "d63c8dfc-7415-4e52-b52a-bbf5b791c08b",
   "metadata": {},
   "outputs": [
    {
     "name": "stdout",
     "output_type": "stream",
     "text": [
      "    Duration  Pulse  Maxpulse  Calories\n",
      "0         60    110       130     409.1\n",
      "1         60    117       145     479.0\n",
      "2         60    103       135     340.0\n",
      "3         45    109       175     282.4\n",
      "4         45    117       148     406.0\n",
      "5         60    102       127     300.0\n",
      "6         60    110       136     374.0\n",
      "7         45    104       134     253.3\n",
      "8         30    109       133     195.1\n",
      "9         60     98       124     269.0\n",
      "10        60    103       147     329.3\n",
      "11        60    100       120     250.7\n",
      "12        60    106       128     345.3\n",
      "13        60    104       132     379.3\n",
      "14        60     98       123     275.0\n",
      "15        60     98       120     215.2\n",
      "16        60    100       120     300.0\n",
      "17        45     90       112     300.0\n",
      "18        60    103       123     323.0\n",
      "19        45     97       125     243.0\n",
      "20        60    108       131     364.2\n",
      "21        45    100       119     282.0\n",
      "22        60    130       101     300.0\n",
      "23        45    105       132     246.0\n",
      "24        60    102       126     334.5\n",
      "25        60    100       120     250.0\n",
      "26        60     92       118     241.0\n",
      "27        60    103       132     300.0\n",
      "28        60    100       132     280.0\n",
      "29        60    102       129     380.3\n"
     ]
    }
   ],
   "source": [
    "df = pd.read_csv('data.csv')\n",
    "\n",
    "#calculate the mean\n",
    "df1 = df['Calories'].mode()[0]\n",
    "#df1.round(2)\n",
    "#Fill with mean (df1)\n",
    "df[\"Calories\"].fillna(df1, inplace = True)\n",
    "\n",
    "print(df.head(30))"
   ]
  },
  {
   "cell_type": "markdown",
   "id": "a9efc3a4-123d-44ec-97a5-380396ebd557",
   "metadata": {},
   "source": [
    "**Standard deviation**"
   ]
  },
  {
   "cell_type": "code",
   "execution_count": 51,
   "id": "99d39206-c4d3-42fa-b1dd-829528ed8b77",
   "metadata": {},
   "outputs": [
    {
     "name": "stdout",
     "output_type": "stream",
     "text": [
      "    Duration  Pulse  Maxpulse    Calories\n",
      "0         60    110       130  409.100000\n",
      "1         60    117       145  479.000000\n",
      "2         60    103       135  340.000000\n",
      "3         45    109       175  282.400000\n",
      "4         45    117       148  406.000000\n",
      "5         60    102       127  300.000000\n",
      "6         60    110       136  374.000000\n",
      "7         45    104       134  253.300000\n",
      "8         30    109       133  195.100000\n",
      "9         60     98       124  269.000000\n",
      "10        60    103       147  329.300000\n",
      "11        60    100       120  250.700000\n",
      "12        60    106       128  345.300000\n",
      "13        60    104       132  379.300000\n",
      "14        60     98       123  275.000000\n",
      "15        60     98       120  215.200000\n",
      "16        60    100       120  300.000000\n",
      "17        45     90       112  266.379919\n",
      "18        60    103       123  323.000000\n",
      "19        45     97       125  243.000000\n",
      "20        60    108       131  364.200000\n",
      "21        45    100       119  282.000000\n",
      "22        60    130       101  300.000000\n",
      "23        45    105       132  246.000000\n",
      "24        60    102       126  334.500000\n",
      "25        60    100       120  250.000000\n",
      "26        60     92       118  241.000000\n",
      "27        60    103       132  266.379919\n",
      "28        60    100       132  280.000000\n",
      "29        60    102       129  380.300000\n"
     ]
    }
   ],
   "source": [
    "df = pd.read_csv('data.csv')\n",
    "\n",
    "#calculate the mean\n",
    "df1 = df['Calories'].std()\n",
    "#Fill with mean (df1)\n",
    "df[\"Calories\"].fillna(df1, inplace = True)\n",
    "\n",
    "print(df.head(30))"
   ]
  },
  {
   "cell_type": "markdown",
   "id": "f4ae3d78-f72d-4805-8fb5-c61768cb75e6",
   "metadata": {},
   "source": [
    "## Duplicate values"
   ]
  },
  {
   "cell_type": "code",
   "execution_count": 53,
   "id": "0328d137-ab2e-42f4-b11e-e40e1da9a505",
   "metadata": {},
   "outputs": [
    {
     "name": "stdout",
     "output_type": "stream",
     "text": [
      "0      False\n",
      "1      False\n",
      "2      False\n",
      "3      False\n",
      "4      False\n",
      "       ...  \n",
      "164    False\n",
      "165    False\n",
      "166    False\n",
      "167    False\n",
      "168    False\n",
      "Length: 169, dtype: bool\n"
     ]
    }
   ],
   "source": [
    "df = pd.read_csv('data.csv')\n",
    "print(df.duplicated())"
   ]
  },
  {
   "cell_type": "code",
   "execution_count": 54,
   "id": "a109f547-d44d-4952-848c-75b6106a1acf",
   "metadata": {},
   "outputs": [
    {
     "name": "stdout",
     "output_type": "stream",
     "text": [
      "     Duration  Pulse  Maxpulse  Calories\n",
      "0          60    110       130     409.1\n",
      "1          60    117       145     479.0\n",
      "2          60    103       135     340.0\n",
      "3          45    109       175     282.4\n",
      "4          45    117       148     406.0\n",
      "..        ...    ...       ...       ...\n",
      "164        60    105       140     290.8\n",
      "165        60    110       145     300.0\n",
      "166        60    115       145     310.2\n",
      "167        75    120       150     320.4\n",
      "168        75    125       150     330.4\n",
      "\n",
      "[162 rows x 4 columns]\n"
     ]
    }
   ],
   "source": [
    "print(df.drop_duplicates())"
   ]
  },
  {
   "cell_type": "code",
   "execution_count": 55,
   "id": "9ea22a71-10c8-4033-bd44-cb38a6c7376b",
   "metadata": {},
   "outputs": [
    {
     "name": "stdout",
     "output_type": "stream",
     "text": [
      "<class 'pandas.core.frame.DataFrame'>\n",
      "RangeIndex: 169 entries, 0 to 168\n",
      "Data columns (total 4 columns):\n",
      " #   Column    Non-Null Count  Dtype  \n",
      "---  ------    --------------  -----  \n",
      " 0   Duration  169 non-null    int64  \n",
      " 1   Pulse     169 non-null    int64  \n",
      " 2   Maxpulse  169 non-null    int64  \n",
      " 3   Calories  164 non-null    float64\n",
      "dtypes: float64(1), int64(3)\n",
      "memory usage: 5.4 KB\n"
     ]
    }
   ],
   "source": [
    "df.info()"
   ]
  },
  {
   "cell_type": "markdown",
   "id": "49b41ee1-4e24-41fd-bfba-dfe2f0198201",
   "metadata": {},
   "source": [
    "## Plotting/visualization"
   ]
  },
  {
   "cell_type": "code",
   "execution_count": 64,
   "id": "ccb8b365-54fa-4dfe-9815-5ee625cd5090",
   "metadata": {},
   "outputs": [
    {
     "data": {
      "image/png": "[encoded data removed]",
      "text/plain": [
       "<Figure size 640x480 with 1 Axes>"
      ]
     },
     "metadata": {},
     "output_type": "display_data"
    }
   ],
   "source": [
    "## Histograms\n",
    "import matplotlib.pyplot as plt\n",
    "\n",
    "df = pd.read_csv('data.csv')\n",
    "\n",
    "df.plot(kind = 'hist', x = 'Calories', y = 'Duration')\n",
    "plt.title('calories intake over time.')\n",
    "plt.xlabel('Calories')\n",
    "plt.ylabel('Duration')\n",
    "plt.show()"
   ]
  },
  {
   "cell_type": "code",
   "execution_count": 60,
   "id": "426b1e55-cc6a-4547-b5fe-6142913073a6",
   "metadata": {},
   "outputs": [
    {
     "data": {
      "image/png": "[encoded data removed]",
      "text/plain": [
       "<Figure size 640x480 with 1 Axes>"
      ]
     },
     "metadata": {},
     "output_type": "display_data"
    }
   ],
   "source": [
    "df.plot(kind = 'bar', x = 'Duration', y = 'Calories')\n",
    "plt.title('calories intake over time.')\n",
    "plt.xlabel('Duration')\n",
    "plt.ylabel('Calories')\n",
    "plt.show()"
   ]
  },
  {
   "cell_type": "code",
   "execution_count": 65,
   "id": "c93b6f2a-61d8-4055-a88f-cc7a771b4f06",
   "metadata": {},
   "outputs": [
    {
     "data": {
      "image/png": "[encoded data removed]",
      "text/plain": [
       "<Figure size 640x480 with 1 Axes>"
      ]
     },
     "metadata": {},
     "output_type": "display_data"
    }
   ],
   "source": [
    "#Scatter plot\n",
    "df.plot(kind = 'scatter', x = 'Duration', y = 'Maxpulse')\n",
    "\n",
    "plt.show()"
   ]
  },
  {
   "cell_type": "code",
   "execution_count": 67,
   "id": "bd20d0e7-183e-42e9-88a9-54e9aafcf841",
   "metadata": {},
   "outputs": [],
   "source": [
    "# Line chart\n",
    "#pie chart\n",
    "# maps"
   ]
  }
 ],
 "metadata": {
  "kernelspec": {
   "display_name": "Python 3 (ipykernel)",
   "language": "python",
   "name": "python3"
  },
  "language_info": {
   "codemirror_mode": {
    "name": "ipython",
    "version": 3
   },
   "file_extension": ".py",
   "mimetype": "text/x-python",
   "name": "python",
   "nbconvert_exporter": "python",
   "pygments_lexer": "ipython3",
   "version": "3.11.7"
  }
 },
 "nbformat": 4,
 "nbformat_minor": 5
}
